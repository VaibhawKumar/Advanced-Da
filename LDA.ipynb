{
  "nbformat": 4,
  "nbformat_minor": 0,
  "metadata": {
    "colab": {
      "name": "LDA.ipynb",
      "version": "0.3.2",
      "provenance": [],
      "collapsed_sections": []
    },
    "kernelspec": {
      "name": "python3",
      "display_name": "Python 3"
    }
  },
  "cells": [
    {
      "cell_type": "code",
      "metadata": {
        "id": "lfT9mNVDE4-F",
        "colab_type": "code",
        "colab": {}
      },
      "source": [
        "import pandas as pd\n",
        "data=pd.read_csv(\"https://raw.githubusercontent.com/selva86/datasets/master/Smarket.csv\")"
      ],
      "execution_count": 0,
      "outputs": []
    },
    {
      "cell_type": "code",
      "metadata": {
        "id": "pOhthtjzI0F7",
        "colab_type": "code",
        "outputId": "331a9567-2b73-46d5-91e9-6ced5e798398",
        "colab": {
          "base_uri": "https://localhost:8080/",
          "height": 199
        }
      },
      "source": [
        "data.isna().sum()"
      ],
      "execution_count": 0,
      "outputs": [
        {
          "output_type": "execute_result",
          "data": {
            "text/plain": [
              "Year         0\n",
              "Lag1         0\n",
              "Lag2         0\n",
              "Lag3         0\n",
              "Lag4         0\n",
              "Lag5         0\n",
              "Volume       0\n",
              "Today        0\n",
              "Direction    0\n",
              "dtype: int64"
            ]
          },
          "metadata": {
            "tags": []
          },
          "execution_count": 5
        }
      ]
    },
    {
      "cell_type": "code",
      "metadata": {
        "id": "vYHqwZq2I6SZ",
        "colab_type": "code",
        "colab": {}
      },
      "source": [
        "X=data.iloc[:,1:8]\n",
        "y=data.iloc[:,8]"
      ],
      "execution_count": 0,
      "outputs": []
    },
    {
      "cell_type": "code",
      "metadata": {
        "id": "OT1rSfAhKxED",
        "colab_type": "code",
        "colab": {}
      },
      "source": [
        "from sklearn.model_selection import train_test_split\n",
        "\n",
        "X_train, X_test, y_train, y_test = train_test_split(X, y, test_size=0.2, random_state=0)"
      ],
      "execution_count": 0,
      "outputs": []
    },
    {
      "cell_type": "code",
      "metadata": {
        "id": "4MboJmeDMfc4",
        "colab_type": "code",
        "colab": {}
      },
      "source": [
        "from sklearn.discriminant_analysis import LinearDiscriminantAnalysis as LDA\n",
        "\n",
        "lda = LDA(n_components=1)\n",
        "X_train = lda.fit(X_train, y_train)\n",
        "pred = lda.predict(X_test)"
      ],
      "execution_count": 0,
      "outputs": []
    },
    {
      "cell_type": "code",
      "metadata": {
        "id": "0nF9PnsuMl1N",
        "colab_type": "code",
        "colab": {}
      },
      "source": [
        "from sklearn.metrics import confusion_matrix"
      ],
      "execution_count": 0,
      "outputs": []
    },
    {
      "cell_type": "code",
      "metadata": {
        "id": "aozuEKSoODJ9",
        "colab_type": "code",
        "outputId": "af38175b-9519-4721-f2a2-6391a044e59c",
        "colab": {
          "base_uri": "https://localhost:8080/",
          "height": 35
        }
      },
      "source": [
        "accuracy_score(pred,y_test)"
      ],
      "execution_count": 0,
      "outputs": [
        {
          "output_type": "execute_result",
          "data": {
            "text/plain": [
              "0.964"
            ]
          },
          "metadata": {
            "tags": []
          },
          "execution_count": 33
        }
      ]
    },
    {
      "cell_type": "code",
      "metadata": {
        "id": "AEM4Wsh-OjJ9",
        "colab_type": "code",
        "colab": {}
      },
      "source": [
        "import numpy as np\n",
        "test_size=np.arange(0.1,1,step=0.1)\n",
        "import matplotlib.pyplot as plt"
      ],
      "execution_count": 0,
      "outputs": []
    },
    {
      "cell_type": "code",
      "metadata": {
        "id": "9fBnuSTnOvYO",
        "colab_type": "code",
        "colab": {}
      },
      "source": [
        "def acuracy_score_lda(size):\n",
        "    X_train, X_test, y_train, y_test = train_test_split(X, y, test_size=size, random_state=0)\n",
        "    lda = LDA(n_components=1)\n",
        "    X_train = lda.fit(X_train, y_train)\n",
        "    pred = lda.predict(X_test)\n",
        "    score=accuracy_score(pred,y_test)\n",
        "    return score"
      ],
      "execution_count": 0,
      "outputs": []
    },
    {
      "cell_type": "code",
      "metadata": {
        "id": "--Wd1eZXPcQ4",
        "colab_type": "code",
        "outputId": "c09e05bf-c351-4485-b89a-bf17417663d9",
        "colab": {
          "base_uri": "https://localhost:8080/",
          "height": 285
        }
      },
      "source": [
        "for i in test_size:\n",
        "  plt.plot(i,acuracy_score_lda(i),'go-',marker='o', markersize=12)\n",
        "  plt.ylabel('Accuracy')\n",
        "  plt.xlabel('Test_size_percentage')"
      ],
      "execution_count": 0,
      "outputs": [
        {
          "output_type": "display_data",
          "data": {
            "image/png": "[encoded data removed]",
            "text/plain": [
              "<Figure size 432x288 with 1 Axes>"
            ]
          },
          "metadata": {
            "tags": []
          }
        }
      ]
    },
    {
      "cell_type": "markdown",
      "metadata": {
        "id": "yfRPKftKfY0l",
        "colab_type": "text"
      },
      "source": [
        "Clearly we can see that max accuracy occurs at test size=0.3 and it is 0.968"
      ]
    }
  ]
}